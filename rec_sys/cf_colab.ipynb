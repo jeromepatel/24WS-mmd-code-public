{
  "cells": [
    {
      "cell_type": "code",
      "execution_count": null,
      "id": "initial_id",
      "metadata": {
        "collapsed": true,
        "id": "initial_id"
      },
      "outputs": [],
      "source": []
    },
    {
      "metadata": {
        "id": "fa308cfc4e877d7"
      },
      "cell_type": "markdown",
      "source": [
        "# MMD 2024, Collaborative Filtering on Google Colab\n",
        "This notebook sets up the enviroment and runs CF experiments on Google Colab.\n",
        "\n",
        "\n",
        "\n"
      ],
      "id": "fa308cfc4e877d7"
    },
    {
      "metadata": {
        "id": "7150cc4ffafd8dcf"
      },
      "cell_type": "code",
      "outputs": [],
      "execution_count": 1,
      "source": [
        "# Clone the repository to local runtime\n",
        "\n",
        "private = False\n",
        "if private:\n",
        "    # Private repository, requires authentication\n",
        "    from google.colab import userdata\n",
        "    pat = userdata.get('github_pat')\n",
        "    project = '24WS-mmd-code-priv'\n",
        "else:\n",
        "    pat = ''\n",
        "    project = '24WS-mmd-code-public'"
      ],
      "id": "7150cc4ffafd8dcf"
    },
    {
      "metadata": {
        "id": "de4af0ee9ef63060",
        "outputId": "249d3b81-7054-4d43-f0b9-e243e7ac5fea",
        "colab": {
          "base_uri": "https://localhost:8080/"
        }
      },
      "cell_type": "code",
      "outputs": [
        {
          "output_type": "stream",
          "name": "stdout",
          "text": [
            "Cloning into '24WS-mmd-code-public'...\n",
            "warning: redirecting to https://github.com/aip-hd-tea/24WS-mmd-code-public.git/\n",
            "remote: Enumerating objects: 30, done.\u001b[K\n",
            "remote: Counting objects: 100% (30/30), done.\u001b[K\n",
            "remote: Compressing objects: 100% (18/18), done.\u001b[K\n",
            "remote: Total 30 (delta 8), reused 27 (delta 5), pack-reused 0 (from 0)\u001b[K\n",
            "Receiving objects: 100% (30/30), 8.12 KiB | 8.12 MiB/s, done.\n",
            "Resolving deltas: 100% (8/8), done.\n"
          ]
        }
      ],
      "execution_count": 2,
      "source": [
        "!git clone https://{pat}@github.com/aip-hd-tea/{project}.git"
      ],
      "id": "de4af0ee9ef63060"
    },
    {
      "metadata": {
        "id": "cc23bb7c89f22488"
      },
      "cell_type": "code",
      "outputs": [],
      "execution_count": 9,
      "source": [
        "# Import the repository code\n",
        "import sys\n",
        "sys.path.insert(0,f\"/content/{project}\")\n",
        "\n",
        "import rec_sys.data_util as cfd\n",
        "\n",
        "# After edits of cf_algorithms_to_complete.py:\n",
        "# 1. Rename the file rec_sys.cf_algorithms_to_complete.py to rec_sys.cf_algorithms.py\n",
        "# 2. Restart the runtime (Runtime -> Restart the session); possibly not needed\n",
        "# 3. Swap the comments in the next two lines, so that cf_algorithms is imported as cfa\n",
        "# import rec_sys.cf_algorithms_to_complete as cfa\n",
        "import rec_sys.cf_algorithms as cfa\n",
        "# 4. Re-run all cells\n",
        "# 5. If your changes are correct, you will see a long\n",
        "#    printout of recommendations for MovieLens dataset (last cell)"
      ],
      "id": "cc23bb7c89f22488"
    },
    {
      "metadata": {
        "id": "3a20780ceb8a3f69"
      },
      "cell_type": "code",
      "outputs": [],
      "execution_count": 4,
      "source": [
        "# Load or set the configuration\n",
        "#from rec_sys.cf_config import config\n",
        "\n",
        "import dataclasses\n",
        "@dataclasses.dataclass\n",
        "class config:\n",
        "    max_rows: int = int(1e5)\n",
        "    dowload_url: str = \"https://files.grouplens.org/datasets/movielens/ml-25m.zip\"\n",
        "    download_dir: str = \"/content/\"\n",
        "    unzipped_dir: str = download_dir + \"ml-25m/\"\n",
        "    file_path: str = download_dir + \"ml-25m/ratings.csv\"\n"
      ],
      "id": "3a20780ceb8a3f69"
    },
    {
      "metadata": {
        "id": "de5038d900469236"
      },
      "cell_type": "code",
      "outputs": [],
      "execution_count": null,
      "source": [
        "\n",
        "import importlib\n",
        "importlib.reload(cfa)\n",
        "\n",
        "# Load the MovieLens and Lecture datasets\n",
        "um_movielens = cfd.get_um_by_name(config, \"movielens\")\n",
        "um_lecture = cfd.get_um_by_name(config, \"lecture_1\")\n",
        "\n",
        "# Rate all items for the lecture toy dataset\n",
        "all_ratings = cfa.rate_all_items(um_lecture, 4, 2)\n",
        "print (\"all_ratings lecture toy dataset:\", all_ratings)\n",
        "\n",
        "# Rate all items the MovieLens data\n",
        "all_ratings_movielens = cfa.rate_all_items(um_movielens, 0, 2)\n",
        "print(\"all_ratings_movielens:\", all_ratings_movielens)"
      ],
      "id": "de5038d900469236"
    },
    {
      "cell_type": "code",
      "source": [
        "!python /content/24WS-mmd-code-public/rec_sys/centered_cosine_sim.py"
      ],
      "metadata": {
        "id": "5TxQpNEqc096",
        "outputId": "dd7bcce0-3aa2-49f8-be0c-5756f7007fd6",
        "colab": {
          "base_uri": "https://localhost:8080/"
        }
      },
      "id": "5TxQpNEqc096",
      "execution_count": 62,
      "outputs": [
        {
          "output_type": "stream",
          "name": "stdout",
          "text": [
            "Test b.1 passed: Centered cosine similarity equals expected value of -1.0000000000000002\n",
            "Test b.2 passed: Centered cosine similarity equals expected value of -0.8019070321811681\n"
          ]
        }
      ]
    },
    {
      "metadata": {
        "id": "1e53c31c16dcef07"
      },
      "cell_type": "markdown",
      "source": [],
      "id": "1e53c31c16dcef07"
    }
  ],
  "metadata": {
    "kernelspec": {
      "display_name": "Python 3",
      "language": "python",
      "name": "python3"
    },
    "language_info": {
      "codemirror_mode": {
        "name": "ipython",
        "version": 2
      },
      "file_extension": ".py",
      "mimetype": "text/x-python",
      "name": "python",
      "nbconvert_exporter": "python",
      "pygments_lexer": "ipython2",
      "version": "2.7.6"
    },
    "colab": {
      "provenance": []
    }
  },
  "nbformat": 4,
  "nbformat_minor": 5
}